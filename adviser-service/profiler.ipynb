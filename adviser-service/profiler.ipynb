{
 "cells": [
  {
   "cell_type": "markdown",
   "metadata": {},
   "source": [
    "# Profiler\n",
    "\n",
    "### Utilização\n",
    "+ Criação de embeddings do utilizador de acordo com o seu perfil.\n",
    "+ Utilizado em runtime quando um utilizador pede um outfit.\n",
    "+ Tratar os embeddings criados como se fossem um item do catálago, procurando items por similaridade quando um utilizador pedir.\n",
    "+ **Input**: Perfil do utilizador (decidir representação)\n",
    "+ **Output**: Vetor próximo das peças que o utilizador gosta.\n",
    "\n",
    "### Treino\n",
    "Problema de regressão\n",
    "+ **Inputs**: Perfis dos utilizadores\n",
    "+ **Outputs**: Vetores das peças gostadas por cada utilizador\n",
    "\n",
    "**Possivelmente teremos de replicar este módulo para cada um dos tipos de peça.**"
   ]
  },
  {
   "cell_type": "code",
   "execution_count": null,
   "metadata": {},
   "outputs": [],
   "source": []
  }
 ],
 "metadata": {
  "kernelspec": {
   "display_name": "Python 3",
   "language": "python",
   "name": "python3"
  },
  "language_info": {
   "codemirror_mode": {
    "name": "ipython",
    "version": 3
   },
   "file_extension": ".py",
   "mimetype": "text/x-python",
   "name": "python",
   "nbconvert_exporter": "python",
   "pygments_lexer": "ipython3",
   "version": "3.6.8"
  }
 },
 "nbformat": 4,
 "nbformat_minor": 2
}
