{
 "cells": [
  {
   "cell_type": "markdown",
   "metadata": {},
   "source": [
    "# Catalogue\n",
    "\n",
    "### Utilização\n",
    "+ Criação de embeddings de acordo com as características das peças.\n",
    "+ Utilizado para cada peça quando é inserida no catálogo, sendo guardado o seu embedding.\n",
    "+ Items parecidos devem estar \"próximos\" uns dos outros.\n",
    "\n",
    "+ **Input**: Imagem/Características da peça \n",
    "+ **Output**: Vetor representativo da peça\n",
    "\n",
    "\n",
    "**Replicar este módulo para cada um dos tipos de peça.**"
   ]
  },
  {
   "cell_type": "code",
   "execution_count": null,
   "metadata": {},
   "outputs": [],
   "source": []
  }
 ],
 "metadata": {
  "kernelspec": {
   "display_name": "Python 3",
   "language": "python",
   "name": "python3"
  },
  "language_info": {
   "codemirror_mode": {
    "name": "ipython",
    "version": 3
   },
   "file_extension": ".py",
   "mimetype": "text/x-python",
   "name": "python",
   "nbconvert_exporter": "python",
   "pygments_lexer": "ipython3",
   "version": "3.6.8"
  }
 },
 "nbformat": 4,
 "nbformat_minor": 2
}
